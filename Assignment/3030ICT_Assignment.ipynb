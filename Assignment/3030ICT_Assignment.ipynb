{
 "cells": [
  {
   "cell_type": "markdown",
   "id": "c22d4312",
   "metadata": {},
   "source": [
    "<h1>3030ICT Assignment</h1>"
   ]
  },
  {
   "cell_type": "markdown",
   "id": "4ffb7f51",
   "metadata": {},
   "source": [
    "<h2>Part 1 – Data Preparation and Preprocessing. [15 points]</h2>"
   ]
  },
  {
   "cell_type": "markdown",
   "id": "7074a99a",
   "metadata": {},
   "source": [
    "<h3>1. Describe the dataset. (8 points)</h3>"
   ]
  },
  {
   "cell_type": "markdown",
   "id": "e5ea0e04",
   "metadata": {},
   "source": [
    "<ul>\n",
    "    <li>Describe the dataset (e.g.: type of column, value range). (1 point) </li>\n",
    "    <li>How many records are there in the dataset? (1 point) </li>\n",
    "    <li>Which period does it cover? How many different dates have job postings? (1 point) </li>\n",
    "    <li>How many locations does the dataset have? Which location has the most job postings? (1 point) </li>\n",
    "    <li>How many job sectors(job classifications) are there in the dataset? List the name of each sector and its’ total of job postings. (1 point) </li>\n",
    "    <li>Choose your favorite job sector (e.g. Information & Communication Technology), how many sub-sectors are there in that sector? List the name of each sub-sector and its’ job posting number. (1 point) </li>\n",
    "    <li>List the salary ranges and their total of job postings. (1 point) </li>\n",
    "    <li>List the job types. In each job type, what are the lowest salary and highest salary? (1 point)</li>\n",
    "</ul"
   ]
  },
  {
   "cell_type": "code",
   "execution_count": null,
   "id": "e3fc27ce",
   "metadata": {},
   "outputs": [],
   "source": []
  },
  {
   "cell_type": "markdown",
   "id": "07f4e959",
   "metadata": {},
   "source": [
    "<h3>2. Normalize and clean data. (7 points)</h3>"
   ]
  },
  {
   "cell_type": "markdown",
   "id": "d1e8f8da",
   "metadata": {},
   "source": [
    "<ul>\n",
    "    <li>The salaries are kept in the dataset as “HighestSalary” and “LowestSalary”. You should calculate the “AverageSalary” for each job. (1 point)</li>\n",
    "    <li>The raw dataset values of the \"Id\" column had inconsistencies in their representation. The Id values should have 8 number long integers only. Write code to remove unnecessary characters. (1 point)</li>\n",
    "    <li>The \"Date\" column is represented in a format that contained both date and time information. However, the time is not correct and should be removed. (1 point)</li>\n",
    "    <li>Change type of “Id” column to numeric and change type of “Date” column to DateTime. (1 point) </li>\n",
    "</ul>"
   ]
  },
  {
   "cell_type": "code",
   "execution_count": null,
   "id": "89146a02",
   "metadata": {},
   "outputs": [],
   "source": []
  },
  {
   "cell_type": "markdown",
   "id": "9016e0fe",
   "metadata": {},
   "source": [
    "<h2>Part 2 – Data Understanding. [5 points] </h2>"
   ]
  },
  {
   "cell_type": "markdown",
   "id": "b1ac2cde",
   "metadata": {},
   "source": [
    "<ul>\n",
    "    <li>Get the salary ranges using “AverageSalary”, the total jobs of each range and display them in the bar chart. (1 point)</li>\n",
    "    <li>Display the list of job types and the number of jobs of each type using pie chart. (1 point)</li>\n",
    "    <li>Display the list of job sectors and the number of jobs of each type using horizontal bar chart. (1 point)</li>\n",
    "    <li>Choose your favorite location. Visualize the market share of that location in pie chart. (1 point)</li>\n",
    "    <li>Can you find the salary distribution for the top 30 cities for the number of job postings? Visualize them in the boxplot chart. (1 point)</li>\n",
    "</ul>"
   ]
  },
  {
   "cell_type": "code",
   "execution_count": null,
   "id": "b49c6185",
   "metadata": {},
   "outputs": [],
   "source": []
  },
  {
   "cell_type": "markdown",
   "id": "14c01e95",
   "metadata": {},
   "source": [
    "<h2>Part 3 – Data Analysis and Visualisation. [6 points]</h2>"
   ]
  },
  {
   "cell_type": "markdown",
   "id": "7e2b0454",
   "metadata": {},
   "source": [
    "<h3>1. Analyse by comparison. (2 points)</h3>"
   ]
  },
  {
   "cell_type": "markdown",
   "id": "fd85ffff",
   "metadata": {},
   "source": [
    "Choose your two favourite cities/locations. We will explore the difference between them by answering the following questions:\n",
    "<ul>\n",
    "    <li>Which city has more job? How many jobs each type (casual, fulltime, etc.) are there in each city? </li>\n",
    "    <li>In each city, which are top 5 job sectors? How many jobs are there in each sector? </li>\n",
    "    <li>Visualise the top 5 job sectors in pie chart for each city.* </li>\n",
    "    <li>In each city, list the job salary range with the corresponding number of jobs. Which city is more well-paid? </li>\n",
    "    <li>List top 5 companies in each city? Which sectors do they belong to? </li>\n",
    "    <li>Between 2 cities, which do you think it is better for employees. Explain your choice.*</li>\n",
    "<ul>"
   ]
  },
  {
   "cell_type": "code",
   "execution_count": null,
   "id": "e56f09da",
   "metadata": {},
   "outputs": [],
   "source": []
  },
  {
   "cell_type": "markdown",
   "id": "4b257851",
   "metadata": {},
   "source": [
    "<h3>2. Analyse by time. (2 points) </h3>"
   ]
  },
  {
   "cell_type": "markdown",
   "id": "42d94e30",
   "metadata": {},
   "source": [
    "In this part, we will analyse the jobs based on the posting date. \n",
    "<ul>\n",
    "    <li>Visualise the number of job posts by month</li>\n",
    "    <li>Visualise the number of job posts by day of week.</li>\n",
    "    <li>Visualise the number of job posts by day of the month.</li>\n",
    "    <li>Visualise trending of the job postings for the big cities.*</li>\n",
    "    <li>Based on the above charts, provide your observation about the number of job posts over time. Give your own conclusion.</li>\n",
    "</ul>"
   ]
  },
  {
   "cell_type": "code",
   "execution_count": null,
   "id": "fa79db9d",
   "metadata": {},
   "outputs": [],
   "source": []
  },
  {
   "cell_type": "markdown",
   "id": "2ea2d9c4",
   "metadata": {},
   "source": [
    "<h3>3. Forecasting and skill extractions. (2 points)</h3>"
   ]
  },
  {
   "cell_type": "markdown",
   "id": "93ea6837",
   "metadata": {},
   "source": [
    "<ul>\n",
    "    <li>Using moving average for 7 days and 30 days to predict the number of job postings and visualise them in line chart. Which one creates a better prediction? Explain your choice.**</li>\n",
    "    <li>Choose your favourite job sector/sub-sector, then use TF/IDF to extract important keywords. Visualise them in word cloud chart (hint: you can use the online tool https://wordart.com/create or similar websites)**.</li>\n",
    "</ul>\n"
   ]
  },
  {
   "cell_type": "code",
   "execution_count": null,
   "id": "da559fec",
   "metadata": {},
   "outputs": [],
   "source": []
  },
  {
   "cell_type": "markdown",
   "id": "df50e69b",
   "metadata": {},
   "source": [
    "<h2>Part 4 – Discussion. [4 points] </h2>"
   ]
  },
  {
   "cell_type": "markdown",
   "id": "363a53fd",
   "metadata": {},
   "source": [
    "<ul>\n",
    "    <li><strong>Scenario 1:</strong> Tom, a grade 12 student in Brisbane, has good results in all of the subjects in his school. He is finding a major in the University which can guarantee a job in his state (Queensland) with a good income (>=80K) in the future. Based on the current job market dataset, which major and the related subjects do you recommend him? Explain your choice.*** ( Max 750 words) </li>\n",
    "    <li><strong>Scenario 2:</strong> To gain a better reputation, Griffith University wants to attract more students by enhancing the employability of the graduates. As a data analyst, you need to give the recommendation for the management board for the changing of the admission numbers in each major. Which majors should be extended, and which majors should be reduced (Assume that we only need to use job market data, regardless of other factors such as social impact, economic impact, etc. )? Justify your recommendation.*** ( Max 750 words)</li>\n",
    "</ul>"
   ]
  },
  {
   "cell_type": "code",
   "execution_count": null,
   "id": "be864797",
   "metadata": {},
   "outputs": [],
   "source": []
  }
 ],
 "metadata": {
  "kernelspec": {
   "display_name": "Python 3 (ipykernel)",
   "language": "python",
   "name": "python3"
  },
  "language_info": {
   "codemirror_mode": {
    "name": "ipython",
    "version": 3
   },
   "file_extension": ".py",
   "mimetype": "text/x-python",
   "name": "python",
   "nbconvert_exporter": "python",
   "pygments_lexer": "ipython3",
   "version": "3.9.7"
  }
 },
 "nbformat": 4,
 "nbformat_minor": 5
}
